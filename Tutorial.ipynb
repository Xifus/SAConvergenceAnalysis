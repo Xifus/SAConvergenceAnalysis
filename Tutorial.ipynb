{
 "cells": [
  {
   "cell_type": "code",
   "execution_count": 1,
   "id": "58b4076c",
   "metadata": {},
   "outputs": [
    {
     "name": "stdout",
     "output_type": "stream",
     "text": [
      "          ST   ST_conf\n",
      "x1  0.518412  0.145301\n",
      "x2  0.410213  0.072414\n",
      "x3  0.229906  0.053861\n",
      "          S1   S1_conf\n",
      "x1  0.318424  0.128113\n",
      "x2  0.430381  0.101775\n",
      "x3  0.022688  0.111026\n",
      "                S2   S2_conf\n",
      "(x1, x2) -0.043237  0.170870\n",
      "(x1, x3)  0.175065  0.181061\n",
      "(x2, x3) -0.034307  0.144569\n"
     ]
    }
   ],
   "source": [
    "from SALib.sample import saltelli\n",
    "from SALib.analyze import sobol\n",
    "from SALib.test_functions import Ishigami\n",
    "from RankingMeasurement import measurements as ms\n",
    "import numpy as np\n",
    "\n",
    "#Define the problem (Ishigami-Homma Function)\n",
    "problem = {\n",
    "  'num_vars': 3,\n",
    "  'names': ['x1', 'x2', 'x3'],\n",
    "  'bounds': [[-np.pi, np.pi]]*3\n",
    "}\n",
    "\n",
    "#Generate sample set\n",
    "param_values = saltelli.sample(problem, 256)\n",
    "\n",
    "#Evaluate the function\n",
    "Y = Ishigami.evaluate(param_values)\n",
    "\n",
    "#Perform variance-based Sobol' method\n",
    "Si = sobol.analyze(problem, Y, keep_resamples=True, print_to_console=True)"
   ]
  },
  {
   "cell_type": "code",
   "execution_count": 2,
   "id": "d6d8c8ab",
   "metadata": {},
   "outputs": [
    {
     "name": "stdout",
     "output_type": "stream",
     "text": [
      "          ST   ST_conf\n",
      "x1  0.559857  0.046950\n",
      "x2  0.442383  0.018952\n",
      "x3  0.243605  0.015292\n",
      "          S1   S1_conf\n",
      "x1  0.315531  0.030911\n",
      "x2  0.442362  0.025663\n",
      "x3  0.001582  0.026761\n",
      "                S2   S2_conf\n",
      "(x1, x2)  0.000236  0.036878\n",
      "(x1, x3)  0.242126  0.049432\n",
      "(x2, x3)  0.000168  0.034884\n"
     ]
    }
   ],
   "source": [
    "#Generate another sample set with different sample size\n",
    "param_values_2 = saltelli.sample(problem, 4096)\n",
    "\n",
    "#Evaluate the function with the new sample set\n",
    "Y2 = Ishigami.evaluate(param_values_2)\n",
    "\n",
    "# Perform Sobol' method on the new function outputs\n",
    "Si_2 = sobol.analyze(problem, Y2, keep_resamples=True, print_to_console=True)"
   ]
  },
  {
   "cell_type": "code",
   "execution_count": 3,
   "id": "2b184c0c",
   "metadata": {},
   "outputs": [
    {
     "data": {
      "text/plain": [
       "0.0"
      ]
     },
     "execution_count": 3,
     "metadata": {},
     "output_type": "execute_result"
    }
   ],
   "source": [
    "#Use Position Factor to measure the difference in ranking between two sets of sensitivity indices\n",
    "ms.position_factor(Si['S1'], Si_2['S1'])\n",
    "\n",
    "#a value of 0 indicates the absolute agreement in ranking"
   ]
  },
  {
   "cell_type": "code",
   "execution_count": 4,
   "id": "e0782cc4",
   "metadata": {},
   "outputs": [
    {
     "data": {
      "text/plain": [
       "0.8457142857142873"
      ]
     },
     "execution_count": 4,
     "metadata": {},
     "output_type": "execute_result"
    }
   ],
   "source": [
    "#Use top-down coefficient of concordance with savage score to measure the reproducibility of the first set of sensitivity indices\n",
    "ms.SSTDCC(Si['S1_conf_all'])\n",
    "\n",
    "#a value of close to 1 indicates high reproducibility under the same setting"
   ]
  },
  {
   "cell_type": "code",
   "execution_count": 5,
   "id": "0e6f4e6b",
   "metadata": {},
   "outputs": [
    {
     "data": {
      "text/plain": [
       "1.000000000000004"
      ]
     },
     "execution_count": 5,
     "metadata": {},
     "output_type": "execute_result"
    }
   ],
   "source": [
    "#Use top-down coefficient of concordance with savage score to measure the reproducibility of the second set of sensitivity indices\n",
    "ms.SSTDCC(Si_2['S1_conf_all'])"
   ]
  },
  {
   "cell_type": "code",
   "execution_count": 6,
   "id": "47b0c4d9",
   "metadata": {},
   "outputs": [
    {
     "data": {
      "text/plain": [
       "array([0.9, 0.9, 1. ])"
      ]
     },
     "execution_count": 6,
     "metadata": {},
     "output_type": "execute_result"
    }
   ],
   "source": [
    "#Use Razavi and Gupta's method to measure the reliability of ranking of each model parameter\n",
    "ms.Reliability(Si['S1'], Si['S1_conf_all'])\n",
    "\n",
    "#a value of 1 shows the absolute agreement between the ranking from resamples and the ranking from original sample set "
   ]
  },
  {
   "cell_type": "code",
   "execution_count": 7,
   "id": "9ff2918c",
   "metadata": {},
   "outputs": [
    {
     "data": {
      "text/plain": [
       "array([1., 1., 1.])"
      ]
     },
     "execution_count": 7,
     "metadata": {},
     "output_type": "execute_result"
    }
   ],
   "source": [
    "#Use Razavi and Gupta's method to measure the reliability of ranking of each model parameter\n",
    "ms.Reliability(Si_2['S1'], Si_2['S1_conf_all'])"
   ]
  }
 ],
 "metadata": {
  "kernelspec": {
   "display_name": "Python 3",
   "language": "python",
   "name": "python3"
  },
  "language_info": {
   "codemirror_mode": {
    "name": "ipython",
    "version": 3
   },
   "file_extension": ".py",
   "mimetype": "text/x-python",
   "name": "python",
   "nbconvert_exporter": "python",
   "pygments_lexer": "ipython3",
   "version": "3.8.8"
  }
 },
 "nbformat": 4,
 "nbformat_minor": 5
}
